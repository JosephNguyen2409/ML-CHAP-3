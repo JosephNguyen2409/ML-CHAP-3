{
 "cells": [
  {
   "cell_type": "code",
   "execution_count": 3,
   "metadata": {},
   "outputs": [],
   "source": [
    "import numpy as np\n",
    "import math\n",
    "X = np.array([0.245,0.247,0.285,0.299,0.327,0.347,0.356,0.36,0.363,0.364,0.398,0.4,0.409,0.421,0.432,0.473,0.509,0.529,0.561,0.569,0.594,\n",
    "0.638,0.656,0.816,0.853,0.938,1.036,1.045])\n",
    "y = np.array([0,0,1,1,1,1,0,1,0,1,0,1,0,1,0,1,1,1,0,0,1,1,1,1,1,1,1,1])\n",
    "\n",
    "np.random.seed(0)\n",
    "theta0 = np.random.rand()\n",
    "theta1 = np.random.rand()\n",
    "learning_rate = 1e-4\n",
    "iteration = 100\n",
    "\n",
    "def logistic_function(z):\n",
    "    return 1 / (1 + np.exp(-z))\n",
    "\n",
    "def predict(X, theta0, theta1):\n",
    "    z = theta0 + theta1 * X\n",
    "    gz = logistic_function(z)\n",
    "    return gz\n",
    "\n",
    "def cost_function(X, y_true, theta0, theta1):\n",
    "    m = len(X)\n",
    "    epsilon = 1e-15\n",
    "    y_pred = predict(X, theta0, theta1)\n",
    "    cost = -(1 / m) * np.sum(y_true * np.log(y_pred + epsilon) + (1 - y_true) * np.log(1 - y_pred + epsilon))\n",
    "    return cost\n",
    "\n",
    "def gradient_descent(X, y , theta0, theta1, learning_rate):\n",
    "    m = len(X)\n",
    "    gradient0 = (1 / m) * np.sum(predict(X, theta0, theta1) - y)\n",
    "    gradient1 = (1 / m) * np.sum((predict(X, theta0, theta1) - y) * X)\n",
    "    new_theta0 = theta0 - learning_rate * gradient0\n",
    "    new_theta1 = theta1 - learning_rate * gradient1\n",
    "    return new_theta0, new_theta1\n",
    "\n"
   ]
  }
 ],
 "metadata": {
  "kernelspec": {
   "display_name": "base",
   "language": "python",
   "name": "python3"
  },
  "language_info": {
   "codemirror_mode": {
    "name": "ipython",
    "version": 3
   },
   "file_extension": ".py",
   "mimetype": "text/x-python",
   "name": "python",
   "nbconvert_exporter": "python",
   "pygments_lexer": "ipython3",
   "version": "3.12.4"
  }
 },
 "nbformat": 4,
 "nbformat_minor": 2
}
